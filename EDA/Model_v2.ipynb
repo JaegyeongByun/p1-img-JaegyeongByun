{
 "cells": [
  {
   "cell_type": "markdown",
   "id": "marine-headquarters",
   "metadata": {},
   "source": [
    "# EDA\n",
    "\n",
    "- 남녀 비율 확인\n",
    "- 연령대 비율 확인\n",
    "- 마스크 착용 여부 비율 Wear : Incorrect : NotWear = 5 : 1 : 1\n",
    "\n",
    "### 데이터 저장 위치\n",
    "- **이미지 위치**: '/opt/ml/input/data/train/images'\n",
    "- **metadata 위치**: '/opt/ml/input/data/train/train.csv'"
   ]
  },
  {
   "cell_type": "code",
   "execution_count": 1,
   "id": "agricultural-matrix",
   "metadata": {},
   "outputs": [],
   "source": [
    "import pandas as pd\n",
    "import numpy as np\n",
    "\n",
    "import matplotlib.pyplot as plt\n",
    "import seaborn as sns\n",
    "\n",
    "from tqdm.notebook import tqdm\n",
    "\n",
    "import timm\n",
    "\n",
    "import glob\n",
    "import os\n",
    "\n",
    "import torch\n",
    "import torch.nn as nn\n",
    "from torch.utils.data import Dataset\n",
    "from torch.utils.data import DataLoader\n",
    "\n",
    "from torchvision import transforms\n",
    "\n",
    "from PIL import Image\n",
    "import cv2"
   ]
  },
  {
   "cell_type": "code",
   "execution_count": 2,
   "id": "assured-prayer",
   "metadata": {},
   "outputs": [],
   "source": [
    "path = '/opt/ml/input/data/train/train.csv'\n",
    "meta_data = pd.read_csv(path)"
   ]
  },
  {
   "cell_type": "code",
   "execution_count": null,
   "id": "constant-colorado",
   "metadata": {},
   "outputs": [],
   "source": [
    "meta_data.head(3)"
   ]
  },
  {
   "cell_type": "markdown",
   "id": "temporal-withdrawal",
   "metadata": {},
   "source": [
    "### 1. 남녀 비율 확인"
   ]
  },
  {
   "cell_type": "code",
   "execution_count": null,
   "id": "burning-michigan",
   "metadata": {},
   "outputs": [],
   "source": [
    "meta_data"
   ]
  },
  {
   "cell_type": "code",
   "execution_count": 4,
   "id": "purple-nelson",
   "metadata": {},
   "outputs": [
    {
     "data": {
      "image/png": "[encoded data removed]",
      "text/plain": [
       "<Figure size 432x324 with 1 Axes>"
      ]
     },
     "metadata": {
      "needs_background": "light"
     },
     "output_type": "display_data"
    }
   ],
   "source": [
    "plt.figure(figsize=(6, 4.5))\n",
    "ax = sns.countplot(x='gender', data=meta_data, palette=[\"#55967e\", \"#263959\"])\n",
    "\n",
    "plt.xticks(np.arange(2), ['female', 'male'])\n",
    "plt.title('Sex Ratio', fontsize=16)\n",
    "plt.xlabel('')\n",
    "plt.ylabel('Number of Images', fontsize=12)\n",
    "\n",
    "counts = meta_data['gender'].value_counts()\n",
    "#counts_pct = [f'{elem * 100:.2f}%' for elem in counts / counts.sum()]\n",
    "counts_pct = [f'{elem}' for elem in counts]\n",
    "for i, v in enumerate(counts_pct):\n",
    "    ax.text(i, 0, v, horizontalalignment='center', size=16, color='w', fontweight='bold')\n",
    "    \n",
    "plt.show()"
   ]
  },
  {
   "cell_type": "code",
   "execution_count": 13,
   "id": "impressive-baseline",
   "metadata": {},
   "outputs": [
    {
     "data": {
      "text/plain": [
       "female    1658\n",
       "male      1042\n",
       "Name: gender, dtype: int64"
      ]
     },
     "execution_count": 13,
     "metadata": {},
     "output_type": "execute_result"
    }
   ],
   "source": [
    "meta_data['gender'].value_counts()"
   ]
  },
  {
   "cell_type": "markdown",
   "id": "together-updating",
   "metadata": {},
   "source": [
    "### 2. 연령대 비율 확인"
   ]
  },
  {
   "cell_type": "code",
   "execution_count": 5,
   "id": "lesser-niger",
   "metadata": {},
   "outputs": [
    {
     "name": "stdout",
     "output_type": "stream",
     "text": [
      "[18, 19, 20, 21, 22, 23, 24, 25, 26, 27, 28, 29, 30, 31, 32, 33, 34, 35, 36, 37, 38, 39, 40, 41, 42, 43, 44, 45, 46, 47, 48, 49, 50, 51, 52, 53, 54, 55, 56, 57, 58, 59, 60]\n"
     ]
    }
   ],
   "source": [
    "age = sorted(meta_data['age'].unique())\n",
    "print(age)"
   ]
  },
  {
   "cell_type": "code",
   "execution_count": 6,
   "id": "composed-wales",
   "metadata": {},
   "outputs": [
    {
     "name": "stdout",
     "output_type": "stream",
     "text": [
      "[1281, 1227, 192]\n"
     ]
    }
   ],
   "source": [
    "age_count = dict(meta_data['age'].value_counts())\n",
    "age_group = [0] * 3\n",
    "for age, count in age_count.items():\n",
    "    if 0 < age and age < 30:\n",
    "        age_group[0] += count\n",
    "    elif 30 <= age and age < 60:\n",
    "        age_group[1] += count\n",
    "    elif 60 <= age:\n",
    "        age_group[2] += count\n",
    "        \n",
    "print(age_group)"
   ]
  },
  {
   "cell_type": "code",
   "execution_count": 7,
   "id": "limited-liberia",
   "metadata": {},
   "outputs": [
    {
     "data": {
      "image/png": "[encoded data removed]",
      "text/plain": [
       "<Figure size 576x288 with 1 Axes>"
      ]
     },
     "metadata": {
      "needs_background": "light"
     },
     "output_type": "display_data"
    }
   ],
   "source": [
    "index = ['under 30', 'more than 30 and under 60', 'above 60']\n",
    "count = age_group\n",
    "\n",
    "plt.figure(figsize=(8, 4)) \n",
    "plt.bar(index, age_group, color=[\"#55967e\", '#705E78', \"#263959\"])\n",
    "\n",
    "plt.xticks(np.arange(3), index)\n",
    "plt.title('Age Ratio', fontsize= 14)\n",
    "plt.xlabel('')\n",
    "plt.ylabel('Number of images')\n",
    "\n",
    "count = np.array(count)\n",
    "#counts_pct = [f'{elem * 100:.2f}%' for elem in count / sum(count)]\n",
    "counts_pct = [f'{elem}' for elem in count]\n",
    "for i, v in enumerate(counts_pct):\n",
    "    plt.text(i, 10, v, horizontalalignment = 'center', size = 14, color = 'w', fontweight = 'bold')\n",
    "    \n",
    "plt.show()"
   ]
  },
  {
   "cell_type": "markdown",
   "id": "extreme-edition",
   "metadata": {},
   "source": [
    "- female(1)    1658\n",
    "- male(0)      1042\n",
    "---\n",
    "- 0            1281\n",
    "- 1            1227\n",
    "- 2            192"
   ]
  },
  {
   "cell_type": "code",
   "execution_count": 26,
   "id": "brief-winner",
   "metadata": {},
   "outputs": [],
   "source": [
    "from collections import defaultdict"
   ]
  },
  {
   "cell_type": "code",
   "execution_count": 31,
   "id": "circular-republic",
   "metadata": {},
   "outputs": [
    {
     "data": {
      "text/plain": [
       "defaultdict(int, {0: 2323, 1: 2169, 2: 1234, 3: 2966, 4: 2812, 5: 1877})"
      ]
     },
     "execution_count": 31,
     "metadata": {},
     "output_type": "execute_result"
    }
   ],
   "source": [
    "genders = {0: 1042, 1:1685}\n",
    "ages = {0: 1281, 1: 1127, 2:192}\n",
    "age_gender = defaultdict(int)\n",
    "\n",
    "for gender, gender_num in genders.items():\n",
    "    for age, age_num in ages.items():\n",
    "        age_gender[age + gender*3] = gender_num + age_num\n",
    "        \n",
    "age_gender"
   ]
  },
  {
   "cell_type": "code",
   "execution_count": 40,
   "id": "built-creator",
   "metadata": {},
   "outputs": [
    {
     "data": {
      "text/plain": [
       "13381"
      ]
     },
     "execution_count": 40,
     "metadata": {},
     "output_type": "execute_result"
    }
   ],
   "source": [
    "index, count = age_gender.keys(), age_gender.values()\n",
    "\n",
    "sum(count)"
   ]
  },
  {
   "cell_type": "code",
   "execution_count": 50,
   "id": "enhanced-prior",
   "metadata": {},
   "outputs": [
    {
     "data": {
      "text/plain": [
       "array([2323, 2169, 1234, 2966, 2812, 1877])"
      ]
     },
     "execution_count": 50,
     "metadata": {},
     "output_type": "execute_result"
    }
   ],
   "source": [
    "a = age_gender.values()\n",
    "a = np.fromiter(age_gender.values(), dtype=int)\n",
    "a"
   ]
  },
  {
   "cell_type": "code",
   "execution_count": 52,
   "id": "extensive-teddy",
   "metadata": {},
   "outputs": [
    {
     "data": {
      "image/png": "[encoded data removed]",
      "text/plain": [
       "<Figure size 864x576 with 1 Axes>"
      ]
     },
     "metadata": {
      "needs_background": "light"
     },
     "output_type": "display_data"
    }
   ],
   "source": [
    "index, count = age_gender.keys(), age_gender.values()\n",
    "\n",
    "plt.figure(figsize=(12, 8)) \n",
    "plt.bar(index, count, color=[\"#55967e\", '#705E78', \"#263959\"])\n",
    "\n",
    "plt.xticks(np.arange(len(index)), index)\n",
    "plt.title('Age and Gender Ratio', fontsize= 14)\n",
    "plt.xlabel('')\n",
    "plt.ylabel('Number of images')\n",
    "\n",
    "# count = np.array(count[0])\n",
    "count = np.fromiter(count, dtype=int)\n",
    "counts_pct = [f'{elem * 100:.2f}%' for elem in count / sum(count)]\n",
    "# counts_pct = [f'{elem}' for elem in count]\n",
    "for i, v in enumerate(counts_pct):\n",
    "    plt.text(i, 10, v, horizontalalignment = 'center', size = 14, color = 'w', fontweight = 'bold')\n",
    "    \n",
    "plt.show()"
   ]
  },
  {
   "cell_type": "markdown",
   "id": "superb-harrison",
   "metadata": {},
   "source": [
    "### 3.마스크 착용 비율 시각화"
   ]
  },
  {
   "cell_type": "code",
   "execution_count": 12,
   "id": "distant-mother",
   "metadata": {},
   "outputs": [
    {
     "data": {
      "image/png": "[encoded data removed]",
      "text/plain": [
       "<Figure size 576x288 with 1 Axes>"
      ]
     },
     "metadata": {
      "needs_background": "light"
     },
     "output_type": "display_data"
    }
   ],
   "source": [
    "index = ['Wear', 'Incorrect', 'Not Wear']\n",
    "count= [5, 1, 1]\n",
    "\n",
    "plt.figure(figsize=(8, 4))\n",
    "plt.bar(index, count, color=[\"#55967e\", '#705E78', \"#263959\"])\n",
    "\n",
    "plt.xticks(np.arange(3), index)\n",
    "plt.title('Mask Ratio', fontsize=14)\n",
    "plt.xlabel('')\n",
    "plt.ylabel('Number of images', fontsize=12)\n",
    "\n",
    "count = np.array(count)\n",
    "counts_pct = [f'{elem * 100:.2f}%' for elem in count / sum(count)]\n",
    "for i, v in enumerate(counts_pct):\n",
    "    plt.text(i, 0.1, v, horizontalalignment = 'center', size = 14, color = 'w', fontweight = 'bold')\n",
    "    \n",
    "plt.show()"
   ]
  },
  {
   "cell_type": "code",
   "execution_count": 9,
   "id": "rotary-manor",
   "metadata": {},
   "outputs": [],
   "source": [
    "# 이미지 path 저장\n",
    "\n",
    "img_dir = glob.glob('/opt/ml/input/data/train/images/*')\n",
    "\n",
    "class_num = 18\n",
    "classes = [[] for _ in range(class_num)]\n",
    "\n",
    "for path in img_dir:\n",
    "    # gender와 age에 따라 class 설정\n",
    "    info = path.split('/')[-1].split('_')\n",
    "    gender, age = info[1], int(info[3])\n",
    "    c = 0\n",
    "    if gender == 'female':\n",
    "        c += 3\n",
    "        \n",
    "    if 30 <= age and age < 60:\n",
    "        c += 1\n",
    "    elif 60 <= age:\n",
    "        c += 2\n",
    "    \n",
    "    new_c = c\n",
    "    img_paths = glob.glob(os.path.join(path, '*'))\n",
    "    for img_path in img_paths:\n",
    "        c = new_c\n",
    "        if 'incorrect' in img_path:\n",
    "            c += 6\n",
    "        elif 'normal' in img_path:\n",
    "            c += 12\n",
    "        classes[c].append(img_path)"
   ]
  },
  {
   "cell_type": "code",
   "execution_count": 10,
   "id": "improved-shooting",
   "metadata": {},
   "outputs": [
    {
     "data": {
      "image/png": "[encoded data removed]",
      "text/plain": [
       "<Figure size 2160x576 with 1 Axes>"
      ]
     },
     "metadata": {
      "needs_background": "light"
     },
     "output_type": "display_data"
    }
   ],
   "source": [
    "index = list(range(18))\n",
    "count= list(map(len, classes))\n",
    "\n",
    "colors = ['#705E78', \n",
    "          '#55967e', '#263959']\n",
    "\n",
    "plt.figure(figsize=(30, 8))\n",
    "plt.bar(index, count, color=colors)\n",
    "\n",
    "plt.xticks(np.arange(18), index)\n",
    "plt.title('Mask Ratio', fontsize=14)\n",
    "plt.xlabel('')\n",
    "plt.ylabel('Number of images', fontsize=12)\n",
    "\n",
    "count = np.array(count)\n",
    "#counts_pct = [f'{elem * 100:.2f}%' for elem in count / sum(count)]\n",
    "counts_pct = [f'{elem}' for elem in count]\n",
    "for i, v in enumerate(counts_pct):\n",
    "    plt.text(i, 0.1, v, horizontalalignment = 'center', size = 14, color = 'w', fontweight = 'bold')\n",
    "    \n",
    "plt.show()"
   ]
  },
  {
   "cell_type": "markdown",
   "id": "sized-japan",
   "metadata": {},
   "source": [
    "# Dataset"
   ]
  },
  {
   "cell_type": "code",
   "execution_count": 21,
   "id": "several-victim",
   "metadata": {},
   "outputs": [],
   "source": [
    "# torchvision.transform\n",
    "\n",
    "class AgeDataset(Dataset):\n",
    "    def __init__(self, train_images_path, transform=None):\n",
    "        self.images_path = train_images_path\n",
    "        self.size = len(self.images_path)\n",
    "        self.transform = transform\n",
    "        \n",
    "    def __getitem__(self, index):\n",
    "        \"\"\"\n",
    "        input : index\n",
    "        output: (image tenor(width x heigth x channel), label)\n",
    "        \"\"\"\n",
    "            \n",
    "        path = self.images_path[index]\n",
    "        label = self.get_label(path)\n",
    "\n",
    "        if self.transform:\n",
    "            img = Image.open(path)  # PIL Image\n",
    "            img = self.transform(img)\n",
    "        \n",
    "        else:\n",
    "            img = cv2.imread(path)  # type: numpy.ndarray, dtype: unit8, H x W x C\n",
    "            img = cv2.cvtColor(img, cv2.COLOR_BGR2RGB)\n",
    "            \n",
    "        return (img, label)\n",
    "    \n",
    "    def __len__(self):\n",
    "        # 고정해서 출력하는 것이 좋을까? - self.size\n",
    "        # 그 떄 그 때 측정하는 것이 좋을까? 혹시 누가 삭제하면,, ㅜㅜ - len(self.train_images_path)\n",
    "        return self.size\n",
    "    \n",
    "    def get_label(self, path):\n",
    "        \"\"\"\n",
    "        input : path\n",
    "            ex. '/opt/ml/input/data/train/images/000523_female_Asian_51/incorrect_mask.jpg'\n",
    "        output: label\n",
    "        \"\"\"\n",
    "\n",
    "        age = int(path.split('/')[-2].split('_')[3])\n",
    "        if age < 30:\n",
    "            label = 0\n",
    "        elif 30 <= age and age < 60:\n",
    "            label = 1\n",
    "        elif 60 <= age:\n",
    "            label = 2\n",
    "\n",
    "        return label"
   ]
  },
  {
   "cell_type": "code",
   "execution_count": null,
   "id": "positive-entertainment",
   "metadata": {},
   "outputs": [],
   "source": [
    "# torchvision.transform\n",
    "\n",
    "class GenderDataset(Dataset):\n",
    "    def __init__(self, train_images_path, transform=None):\n",
    "        self.images_path = train_images_path\n",
    "        self.size = len(self.images_path)\n",
    "        self.transform = transform\n",
    "        \n",
    "    def __getitem__(self, index):\n",
    "        \"\"\"\n",
    "        input : index\n",
    "        output: (image tenor(width x heigth x channel), label)\n",
    "        \"\"\"\n",
    "            \n",
    "        path = self.images_path[index]\n",
    "        label = self.get_label(path)\n",
    "\n",
    "        if self.transform:\n",
    "            img = Image.open(path)  # PIL Image\n",
    "            img = self.transform(img)\n",
    "        \n",
    "        else:\n",
    "            img = cv2.imread(path)  # type: numpy.ndarray, dtype: unit8, H x W x C\n",
    "            img = cv2.cvtColor(img, cv2.COLOR_BGR2RGB)\n",
    "            \n",
    "        return (img, label)\n",
    "    \n",
    "    def __len__(self):\n",
    "        # 고정해서 출력하는 것이 좋을까? - self.size\n",
    "        # 그 떄 그 때 측정하는 것이 좋을까? 혹시 누가 삭제하면,, ㅜㅜ - len(self.train_images_path)\n",
    "        return self.size\n",
    "    \n",
    "    def get_label(self, path):\n",
    "        \"\"\"\n",
    "        input : path\n",
    "            ex. '/opt/ml/input/data/train/images/000523_female_Asian_51/incorrect_mask.jpg'\n",
    "        output: label\n",
    "        \"\"\"\n",
    " \n",
    "        gender = path.split('/')[-2].split('_')[1]\n",
    "        \n",
    "        if gender == 'male':\n",
    "            label = 0\n",
    "        elif gender == 'female':\n",
    "            label = 1\n",
    "\n",
    "        return label"
   ]
  },
  {
   "cell_type": "code",
   "execution_count": null,
   "id": "binary-training",
   "metadata": {},
   "outputs": [],
   "source": [
    "# torchvision.transform\n",
    "\n",
    "class MaskDataset(Dataset):\n",
    "    def __init__(self, train_images_path, transform=None):\n",
    "        self.images_path = train_images_path\n",
    "        self.size = len(self.images_path)\n",
    "        self.transform = transform\n",
    "        \n",
    "    def __getitem__(self, index):\n",
    "        \"\"\"\n",
    "        input : index\n",
    "        output: (image tenor(width x heigth x channel), label)\n",
    "        \"\"\"\n",
    "            \n",
    "        path = self.images_path[index]\n",
    "        label = self.get_label(path)\n",
    "\n",
    "        if self.transform:\n",
    "            img = Image.open(path)  # PIL Image\n",
    "            img = self.transform(img)\n",
    "        \n",
    "        else:\n",
    "            img = cv2.imread(path)  # type: numpy.ndarray, dtype: unit8, H x W x C\n",
    "            img = cv2.cvtColor(img, cv2.COLOR_BGR2RGB)\n",
    "            \n",
    "        return (img, label)\n",
    "    \n",
    "    def __len__(self):\n",
    "        # 고정해서 출력하는 것이 좋을까? - self.size\n",
    "        # 그 떄 그 때 측정하는 것이 좋을까? 혹시 누가 삭제하면,, ㅜㅜ - len(self.train_images_path)\n",
    "        return self.size\n",
    "    \n",
    "    def get_label(self, path):\n",
    "        \"\"\"\n",
    "        input : path\n",
    "            ex. '/opt/ml/input/data/train/images/000523_female_Asian_51/incorrect_mask.jpg'\n",
    "        output: label\n",
    "        \"\"\"\n",
    " \n",
    "        mask_info = path.split('/')[-1]\n",
    "        if 'mask' in mask_info:\n",
    "            label = 0\n",
    "        elif 'incorrect' in mask_info:\n",
    "            label = 1\n",
    "        elif 'normal' in mask_info:\n",
    "            label = 2\n",
    "\n",
    "        return label"
   ]
  },
  {
   "cell_type": "code",
   "execution_count": 19,
   "id": "polish-exhibition",
   "metadata": {},
   "outputs": [
    {
     "data": {
      "text/plain": [
       "18900"
      ]
     },
     "execution_count": 19,
     "metadata": {},
     "output_type": "execute_result"
    }
   ],
   "source": [
    "# 이미지 path 저장\n",
    "\n",
    "img_dir = glob.glob('/opt/ml/input/data/train/images/*')\n",
    "train_images_path = []\n",
    "\n",
    "for path in img_dir:\n",
    "    img_path = glob.glob(os.path.join(path, '*'))\n",
    "    train_images_path.extend(sorted(img_path))\n",
    "len(train_images_path)"
   ]
  },
  {
   "cell_type": "code",
   "execution_count": 23,
   "id": "further-timber",
   "metadata": {},
   "outputs": [],
   "source": [
    "# Dataset and Data Loader\n",
    "transform = transforms.Compose([\n",
    "    transforms.ToTensor(),\n",
    "])\n",
    "\n",
    "age_dataset = AgeDataset(train_images_path, transform=transform)\n",
    "age_dataloader = DataLoader(age_dataset, batch_size=16, drop_last=True, pin_memory=True, shuffle=True, num_workers=4)\n",
    "\n",
    "# gender_dataset = GenderDataset(train_images_path, transform=transform)\n",
    "# gender_dataloader = DataLoader(gender_dataset, batch_size=16, drop_last=True, pin_memory=True, shuffle=True, num_workers=4)\n",
    "\n",
    "# mask_dataset = MaskDataset(train_images_path, transform=transform)\n",
    "# mask_dataloader = DataLoader(mask_dataset, batch_size=16, drop_last=True, pin_memory=True, shuffle=True, num_workers=4)"
   ]
  },
  {
   "cell_type": "markdown",
   "id": "different-midnight",
   "metadata": {},
   "source": [
    "# Model\n",
    "\n",
    "- efficientnet_b0: 작은 모델"
   ]
  },
  {
   "cell_type": "code",
   "execution_count": 17,
   "id": "opposed-smell",
   "metadata": {},
   "outputs": [],
   "source": [
    "device = torch.device(\"cuda:0\" if torch.cuda.is_available() else \"cpu\")"
   ]
  },
  {
   "cell_type": "code",
   "execution_count": 55,
   "id": "elder-broad",
   "metadata": {},
   "outputs": [
    {
     "data": {
      "text/plain": [
       "Linear(in_features=1280, out_features=1000, bias=True)"
      ]
     },
     "execution_count": 55,
     "metadata": {},
     "output_type": "execute_result"
    }
   ],
   "source": [
    "age_model = timm.create_model('efficientnet_b0', pretrained=True)\n",
    "age_model.classifier"
   ]
  },
  {
   "cell_type": "code",
   "execution_count": 15,
   "id": "white-fundamental",
   "metadata": {},
   "outputs": [],
   "source": [
    "num_classes = 3\n",
    "age_model = timm.create_model('efficientnet_b0', pretrained=True)\n",
    "age_model.classifier = nn.Sequential(\n",
    "    nn.Linear(1280, 1000),\n",
    "    nn.ReLU(True),\n",
    "    nn.Dropout(),\n",
    "    nn.Linear(1000, 1000),\n",
    "    nn.ReLU(True),\n",
    "    nn.Dropout(),\n",
    "    nn.Linear(1000, num_classes),\n",
    ")"
   ]
  },
  {
   "cell_type": "code",
   "execution_count": null,
   "id": "figured-correction",
   "metadata": {},
   "outputs": [],
   "source": [
    "num_classes = 2\n",
    "gender_model = timm.create_model('efficientnet_b0', pretrained=True)\n",
    "gender_model.classifier = nn.Sequential(\n",
    "    nn.Linear(1280, 1000),\n",
    "    nn.ReLU(True),\n",
    "    nn.Dropout(),\n",
    "    nn.Linear(1000, 1000),\n",
    "    nn.ReLU(True),\n",
    "    nn.Dropout(),\n",
    "    nn.Linear(1000, num_classes),\n",
    ")"
   ]
  },
  {
   "cell_type": "code",
   "execution_count": null,
   "id": "preliminary-norwegian",
   "metadata": {},
   "outputs": [],
   "source": [
    "num_classes = 3\n",
    "mask_model = timm.create_model('efficientnet_b0', pretrained=True)\n",
    "mask_model.classifier = nn.Sequential(\n",
    "    nn.Linear(1280, 1000),\n",
    "    nn.ReLU(True),\n",
    "    nn.Dropout(),\n",
    "    nn.Linear(1000, 1000),\n",
    "    nn.ReLU(True),\n",
    "    nn.Dropout(),\n",
    "    nn.Linear(1000, num_classes),\n",
    ")"
   ]
  },
  {
   "cell_type": "markdown",
   "id": "iraqi-investing",
   "metadata": {},
   "source": [
    "# Train"
   ]
  },
  {
   "cell_type": "code",
   "execution_count": 24,
   "id": "stainless-survey",
   "metadata": {},
   "outputs": [
    {
     "data": {
      "application/vnd.jupyter.widget-view+json": {
       "model_id": "164b0dbfc1394a068ce55f030a813921",
       "version_major": 2,
       "version_minor": 0
      },
      "text/plain": [
       "HBox(children=(FloatProgress(value=0.0, max=1181.0), HTML(value='')))"
      ]
     },
     "metadata": {},
     "output_type": "display_data"
    },
    {
     "name": "stdout",
     "output_type": "stream",
     "text": [
      "epoch 1 | iter     0 | train loss 1.10814 | train acc 0.125\n",
      "\n"
     ]
    },
    {
     "ename": "KeyboardInterrupt",
     "evalue": "",
     "output_type": "error",
     "traceback": [
      "\u001b[0;31m---------------------------------------------------------------------------\u001b[0m",
      "\u001b[0;31mKeyboardInterrupt\u001b[0m                         Traceback (most recent call last)",
      "\u001b[0;32m<ipython-input-24-b7a99a7144dd>\u001b[0m in \u001b[0;36m<module>\u001b[0;34m\u001b[0m\n\u001b[1;32m     14\u001b[0m         \u001b[0moptimizer\u001b[0m\u001b[0;34m.\u001b[0m\u001b[0mzero_grad\u001b[0m\u001b[0;34m(\u001b[0m\u001b[0;34m)\u001b[0m\u001b[0;34m\u001b[0m\u001b[0;34m\u001b[0m\u001b[0m\n\u001b[1;32m     15\u001b[0m \u001b[0;34m\u001b[0m\u001b[0m\n\u001b[0;32m---> 16\u001b[0;31m         \u001b[0mimg\u001b[0m\u001b[0;34m,\u001b[0m \u001b[0mlabel\u001b[0m \u001b[0;34m=\u001b[0m \u001b[0mimg\u001b[0m\u001b[0;34m.\u001b[0m\u001b[0mfloat\u001b[0m\u001b[0;34m(\u001b[0m\u001b[0;34m)\u001b[0m\u001b[0;34m.\u001b[0m\u001b[0mcuda\u001b[0m\u001b[0;34m(\u001b[0m\u001b[0;34m)\u001b[0m\u001b[0;34m,\u001b[0m \u001b[0mlabel\u001b[0m\u001b[0;34m.\u001b[0m\u001b[0mlong\u001b[0m\u001b[0;34m(\u001b[0m\u001b[0;34m)\u001b[0m\u001b[0;34m.\u001b[0m\u001b[0mcuda\u001b[0m\u001b[0;34m(\u001b[0m\u001b[0;34m)\u001b[0m\u001b[0;34m\u001b[0m\u001b[0;34m\u001b[0m\u001b[0m\n\u001b[0m\u001b[1;32m     17\u001b[0m         \u001b[0mpred_logit\u001b[0m \u001b[0;34m=\u001b[0m \u001b[0mmodel\u001b[0m\u001b[0;34m(\u001b[0m\u001b[0mimg\u001b[0m\u001b[0;34m)\u001b[0m\u001b[0;34m\u001b[0m\u001b[0;34m\u001b[0m\u001b[0m\n\u001b[1;32m     18\u001b[0m \u001b[0;34m\u001b[0m\u001b[0m\n",
      "\u001b[0;31mKeyboardInterrupt\u001b[0m: "
     ]
    }
   ],
   "source": [
    "model = age_model\n",
    "model.to(device)\n",
    "train_loader = age_dataloader\n",
    "\n",
    "weight = [1, 1, 6]\n",
    "weight = torch.tensor(weight).float().cuda()\n",
    "\n",
    "criterion = nn.CrossEntropyLoss(weight=weight)\n",
    "optimizer = torch.optim.SGD(model.parameters(), lr=0.01, momentum=0.9)\n",
    "\n",
    "for epoch in range(1):\n",
    "    model.train()\n",
    "    for iter, (img, label) in enumerate(tqdm(train_loader)):\n",
    "        optimizer.zero_grad()\n",
    "\n",
    "        img, label = img.float().cuda(), label.long().cuda()\n",
    "        pred_logit = model(img)\n",
    "\n",
    "        loss = criterion(pred_logit, label)\n",
    "        loss.backward()\n",
    "        optimizer.step()\n",
    "\n",
    "        pred_label = torch.argmax(pred_logit, 1)\n",
    "        acc = (pred_label == label).sum().item() / len(img)\n",
    "\n",
    "        train_loss = loss.item()\n",
    "        train_acc = acc\n",
    "        \n",
    "        if iter % 100 == 0:\n",
    "            print(f\"epoch {epoch+1} | iter {iter:5d} | train loss {train_loss:.5f} | train acc {train_acc}\")"
   ]
  },
  {
   "cell_type": "code",
   "execution_count": null,
   "id": "deluxe-wedding",
   "metadata": {},
   "outputs": [],
   "source": [
    "model = gender_model\n",
    "model.to(device)\n",
    "train_loader = gender_dataloader\n",
    "\n",
    "weight = [2, 3]\n",
    "weight = torch.tensor(weight).float().cuda()\n",
    "\n",
    "criterion = nn.CrossEntropyLoss(weight=weight)\n",
    "optimizer = torch.optim.SGD(model.parameters(), lr=0.01, momentum=0.9)\n",
    "\n",
    "for epoch in range(1):\n",
    "    model.train()\n",
    "    for iter, (img, label) in enumerate(tqdm(train_loader)):\n",
    "        optimizer.zero_grad()\n",
    "\n",
    "        img, label = img.float().cuda(), label.long().cuda()\n",
    "        pred_logit = model(img)\n",
    "\n",
    "        loss = criterion(pred_logit, label)\n",
    "        loss.backward()\n",
    "        optimizer.step()\n",
    "\n",
    "        pred_label = torch.argmax(pred_logit, 1)\n",
    "        acc = (pred_label == label).sum().item() / len(img)\n",
    "\n",
    "        train_loss = loss.item()\n",
    "        train_acc = acc\n",
    "        \n",
    "        if iter % 100 == 0:\n",
    "            print(f\"epoch {epoch+1} | iter {iter:5d} | train loss {train_loss:.5f} | train acc {train_acc}\")"
   ]
  },
  {
   "cell_type": "code",
   "execution_count": null,
   "id": "played-minority",
   "metadata": {},
   "outputs": [],
   "source": [
    "model = mask_model\n",
    "model.to(device)\n",
    "train_loader = mask_dataloader\n",
    "\n",
    "weight = [1, 5, 5]\n",
    "weight = torch.tensor(weight).float().cuda()\n",
    "\n",
    "criterion = nn.CrossEntropyLoss(weight=weight)\n",
    "optimizer = torch.optim.SGD(model.parameters(), lr=0.01, momentum=0.9)\n",
    "for epoch in range(1):\n",
    "    model.train()\n",
    "    for iter, (img, label) in enumerate(tqdm(train_loader)):\n",
    "        optimizer.zero_grad()\n",
    "\n",
    "        img, label = img.float().cuda(), label.long().cuda()\n",
    "        pred_logit = model(img)\n",
    "\n",
    "        loss = criterion(pred_logit, label)\n",
    "        loss.backward()\n",
    "        optimizer.step()\n",
    "\n",
    "        pred_label = torch.argmax(pred_logit, 1)\n",
    "        acc = (pred_label == label).sum().item() / len(img)\n",
    "\n",
    "        train_loss = loss.item()\n",
    "        train_acc = acc\n",
    "        \n",
    "        if iter % 100 == 0:\n",
    "            print(f\"epoch {epoch+1} | iter {iter:5d} | train loss {train_loss:.5f} | train acc {train_acc}\")"
   ]
  },
  {
   "cell_type": "markdown",
   "id": "grateful-policy",
   "metadata": {},
   "source": [
    "# Test"
   ]
  },
  {
   "cell_type": "code",
   "execution_count": null,
   "id": "union-fiction",
   "metadata": {},
   "outputs": [],
   "source": [
    "class TestDataset(Dataset):\n",
    "    def __init__(self, img_paths, transform):\n",
    "        self.img_paths = img_paths\n",
    "        self.transform = transform\n",
    "\n",
    "    def __getitem__(self, index):\n",
    "        image = Image.open(self.img_paths[index])\n",
    "\n",
    "        if self.transform:\n",
    "            image = self.transform(image)\n",
    "        return image\n",
    "\n",
    "    def __len__(self):\n",
    "        return len(self.img_paths)"
   ]
  },
  {
   "cell_type": "code",
   "execution_count": null,
   "id": "applicable-timeline",
   "metadata": {},
   "outputs": [],
   "source": [
    "test_dir = '/opt/ml/input/data/eval'\n",
    "\n",
    "# meta 데이터와 이미지 경로를 불러옵니다.\n",
    "submission = pd.read_csv(os.path.join(test_dir, 'info.csv'))\n",
    "image_dir = os.path.join(test_dir, 'images')\n",
    "\n",
    "# Test Dataset 클래스 객체를 생성하고 DataLoader를 만듭니다.\n",
    "image_paths = [os.path.join(image_dir, img_id) for img_id in submission.ImageID]\n",
    "transform = transforms.Compose([\n",
    "    transforms.Resize((512, 384), Image.BILINEAR),\n",
    "    transforms.ToTensor(),\n",
    "    transforms.Normalize(mean=(0.5, 0.5, 0.5), std=(0.2, 0.2, 0.2)),\n",
    "])\n",
    "dataset = TestDataset(image_paths, transform)\n",
    "\n",
    "loader = DataLoader(\n",
    "    dataset,\n",
    "    shuffle=False\n",
    ")\n",
    "\n",
    "len(dataset)"
   ]
  },
  {
   "cell_type": "code",
   "execution_count": null,
   "id": "adequate-spelling",
   "metadata": {},
   "outputs": [],
   "source": [
    "# 모델이 테스트 데이터셋을 예측하고 결과를 저장합니다.\n",
    "\n",
    "age_model.eval()\n",
    "gender_model.eval()\n",
    "mask_model.eval()\n",
    "\n",
    "all_predictions = []\n",
    "for images in tqdm(loader):\n",
    "    with torch.no_grad():\n",
    "        images = images.to(device)\n",
    "        \n",
    "        age_pred = age_model(images)\n",
    "        age_pred = age_pred.argmax(dim=-1)\n",
    "        \n",
    "        gender_pred = gender_model(images)\n",
    "        gender_pred = gender_pred.argmax(dim=-1) * 3\n",
    "        \n",
    "        mask_pred = mask_model(images)\n",
    "        mask_pred = mask_pred.argmax(dim=-1) * 6\n",
    "        \n",
    "        pred = age_pred + gender_pred + mask_pred\n",
    "        \n",
    "        all_predictions.extend(pred.cpu().numpy())"
   ]
  },
  {
   "cell_type": "code",
   "execution_count": null,
   "id": "freelance-hayes",
   "metadata": {},
   "outputs": [],
   "source": [
    "submission['ans'] = all_predictions\n",
    "\n",
    "# 제출할 파일을 저장합니다.\n",
    "submission.to_csv(os.path.join('.', 'submission.csv'), index=False)\n",
    "print('test inference is done!')"
   ]
  },
  {
   "cell_type": "code",
   "execution_count": null,
   "id": "expensive-warehouse",
   "metadata": {},
   "outputs": [],
   "source": [
    "submission['ans'].value_counts().sort_index()"
   ]
  },
  {
   "cell_type": "code",
   "execution_count": null,
   "id": "instrumental-johnson",
   "metadata": {},
   "outputs": [],
   "source": [
    "exist_class = np.array(submission['ans'].value_counts().index)\n",
    "not_exist_class = {}\n",
    "for i in range(18):\n",
    "    if i not in exist_class:\n",
    "        not_exist_class[i] = 0"
   ]
  },
  {
   "cell_type": "code",
   "execution_count": null,
   "id": "micro-supplement",
   "metadata": {},
   "outputs": [],
   "source": [
    "not_exist_class = pd.Series(not_exist_class)\n",
    "answer = submission['ans'].value_counts()\n",
    "\n",
    "answer = pd.concat([answer, not_exist_class])\n",
    "answer = answer.sort_index()\n",
    "answer"
   ]
  },
  {
   "cell_type": "code",
   "execution_count": null,
   "id": "beautiful-workshop",
   "metadata": {},
   "outputs": [],
   "source": [
    "plt.figure(figsize=(20, 6))\n",
    "ax = sns.barplot(x=np.arange(18), y=answer, palette=['#FEA443', '#F3FEB0', '#F2EDD0'])\n",
    "\n",
    "plt.xticks(np.arange(18), np.arange(18))\n",
    "plt.title('Answer Ratio', fontsize=16)\n",
    "plt.xlabel('')\n",
    "plt.ylabel('Number of Images', fontsize=12)\n",
    "\n",
    "counts = answer\n",
    "counts_pct = [f'{elem * 100:.2f}%' for elem in counts / counts.sum()]\n",
    "for i, v in enumerate(counts_pct):\n",
    "    ax.text(i, 0, v, horizontalalignment='center', size=12, color='black', fontweight='bold')\n",
    "    \n",
    "plt.show()"
   ]
  },
  {
   "cell_type": "code",
   "execution_count": null,
   "id": "abroad-battle",
   "metadata": {},
   "outputs": [],
   "source": []
  }
 ],
 "metadata": {
  "kernelspec": {
   "display_name": "Python 3",
   "language": "python",
   "name": "python3"
  },
  "language_info": {
   "codemirror_mode": {
    "name": "ipython",
    "version": 3
   },
   "file_extension": ".py",
   "mimetype": "text/x-python",
   "name": "python",
   "nbconvert_exporter": "python",
   "pygments_lexer": "ipython3",
   "version": "3.7.7"
  }
 },
 "nbformat": 4,
 "nbformat_minor": 5
}
